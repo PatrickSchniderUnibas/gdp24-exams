{
 "cells": [
  {
   "cell_type": "markdown",
   "metadata": {
    "deletable": false
   },
   "source": [
    "# Grundlagen der Programmierung  <br/> Probeprüfung \n",
    "\n",
    "#### Patrick Schnider, Marcel Lüthi<br/> Departement Mathematik und Informatik, Universität Basel\n",
    "\n",
    "Bearbeitungszeit: 30 Minuten"
   ]
  },
  {
   "cell_type": "markdown",
   "metadata": {
    "deletable": false
   },
   "source": [
    "In diesem Notebook üben Sie\n",
    "- wie die Zwischen- und Abschlussklausur ablaufen.\n",
    "- dass Sie regelmässig speichern.\n",
    "- wie ein Notebook an der Klausur aussieht.\n",
    "- was Sie beim Lösen der Klausur beachten müssen.\n",
    "- wie Sie den Safe Exam Browser bedienen.\n",
    "- wie Sie die Prüfung am Ende der Bearbeitung hochladen."
   ]
  },
  {
   "cell_type": "markdown",
   "metadata": {
    "deletable": false
   },
   "source": [
    "Es gibt folgende Regeln zu beachten:\n",
    "- Speichern Sie spätestens nach jeder Aufgabe das Notebook.\n",
    "- Ändern Sie vorgeschriebene Klassennamen nicht.\n",
    "- Schreiben Sie immer nur genau eine Klasse pro Zelle.\n",
    "- Sie dürfen beliebig viele weitere Zellen erstellen um Ihr Programm zu testen, die Lösung muss aber in der vorgegebenen Zelle an der vorgegebenen Stelle stehen."
   ]
  },
  {
   "cell_type": "markdown",
   "metadata": {},
   "source": [
    "Wenn Sie nicht deutscher Muttersprache sind können Sie Deepl benutzen um die Aufgaben zu übersetzen:\n",
    "\n",
    "* [Link zu Deepl](https://www.deepl.com/en/translator)"
   ]
  },
  {
   "cell_type": "markdown",
   "metadata": {},
   "source": [
    "Falls benötigt, können Sie hier auf die Dokumentation von Java zugreifen:\n",
    "\n",
    "* [Java-Dokumentation](https://docs.oracle.com/javase/8/docs/api/?java/lang/Math.html)"
   ]
  },
  {
   "cell_type": "markdown",
   "metadata": {},
   "source": [
    "Schreiben Sie in die nachfolgende Zelle Ihren Namen und E-Mail Adresse:"
   ]
  },
  {
   "cell_type": "markdown",
   "metadata": {},
   "source": [
    "Frieda Muster frieda.muster@unibas.ch"
   ]
  },
  {
   "cell_type": "markdown",
   "metadata": {
    "deletable": false
   },
   "source": [
    "### Aufgabe 1 - Teilbarkeit (2 Punkte)"
   ]
  },
  {
   "cell_type": "markdown",
   "metadata": {
    "deletable": false
   },
   "source": [
    "Schreiben Sie eine Methode `divisibleBy3` welche überprüft ob die übergebene Zahl durch 3 teilbar ist. Dabei soll für durch 3 teilbare Zahlen `\"X ist durch 3 teilbar.\"` ausgegeben werden und für alle anderen Zahlen `\"X ist nicht durch 3 teilbar.\"`.\n",
    "\n",
    "Mögliche Ausgaben sind:\n",
    "- `1 ist nicht durch 3 teilbar.`\n",
    "- `3 ist durch 3 teilbar.`\n",
    "- `7 ist nicht durch 3 teilbar.`"
   ]
  },
  {
   "cell_type": "code",
   "execution_count": null,
   "metadata": {
    "deletable": false,
    "exercise_id": 1,
    "vscode": {
     "languageId": "java"
    }
   },
   "outputs": [],
   "source": [
    "public class Divisibility {\n",
    "    \n",
    "    // Ihre Lösung\n",
    "    \n",
    "    public static void main(String[] args) {\n",
    "        // Ihre Lösung\n",
    "    }\n",
    "}"
   ]
  },
  {
   "cell_type": "code",
   "execution_count": null,
   "metadata": {
    "deletable": false,
    "vscode": {
     "languageId": "java"
    }
   },
   "outputs": [],
   "source": [
    "Divisibility.main(new String[0]);"
   ]
  },
  {
   "cell_type": "markdown",
   "metadata": {
    "deletable": false
   },
   "source": [
    "### Aufgabe 2 - Form (2 Punkte)"
   ]
  },
  {
   "cell_type": "markdown",
   "metadata": {
    "deletable": false
   },
   "source": [
    "![Form](images/shape2.png)\n",
    "\n",
    "Schreiben Sie eine Methode `isInside` welche für die Koordinate (`x`, `y`) prüft, ob diese innerhalb oder ausserhalb der im Bild gezeigten Form liegt. Innerhalb der Form soll der Wahrheitswert `true` zurück gegeben werden, sonst soll `false` zurück gegeben werden.\n",
    "\n",
    "- Die Koordinate können Sie als zwei Gleitkommazahlen repräsentieren.\n",
    "- Der Rand der Form ist immer auf einer ganzen Zahl.\n",
    "- Der Rand der Form gehört zur Form."
   ]
  },
  {
   "cell_type": "code",
   "execution_count": null,
   "metadata": {
    "deletable": false,
    "exercise_id": 2,
    "vscode": {
     "languageId": "java"
    }
   },
   "outputs": [],
   "source": [
    "public class Shape {\n",
    "    \n",
    "    // Ihre Lösung\n",
    "    \n",
    "    public static void main(String[] args) {\n",
    "        // Ihre Lösung\n",
    "    }\n",
    "}"
   ]
  },
  {
   "cell_type": "code",
   "execution_count": null,
   "metadata": {
    "deletable": false,
    "vscode": {
     "languageId": "java"
    }
   },
   "outputs": [],
   "source": [
    "Shape.main(new String[0]);"
   ]
  },
  {
   "cell_type": "markdown",
   "metadata": {
    "deletable": false
   },
   "source": [
    "### Aufgabe 3 - Fakultät (3 Punkte)"
   ]
  },
  {
   "cell_type": "markdown",
   "metadata": {
    "deletable": false
   },
   "source": [
    "Schreiben Sie eine Methode `factorial` welche eine ganze Zahl übergeben bekommt. Die Methode soll alle ganzen Zahlen von 1 bis zur übergebenen Zahl multiplizieren."
   ]
  },
  {
   "cell_type": "code",
   "execution_count": null,
   "metadata": {
    "deletable": false,
    "exercise_id": 3,
    "vscode": {
     "languageId": "java"
    }
   },
   "outputs": [],
   "source": [
    "public class RecursiveSum {\n",
    "    \n",
    "    // Ihre Lösung\n",
    "    \n",
    "    public static void main(String[] args) {\n",
    "        // Ihre Lösung\n",
    "    }\n",
    "\n",
    "}"
   ]
  },
  {
   "cell_type": "code",
   "execution_count": null,
   "metadata": {
    "deletable": false,
    "vscode": {
     "languageId": "java"
    }
   },
   "outputs": [],
   "source": [
    "RecursiveSum.main(new String[0]);"
   ]
  },
  {
   "cell_type": "markdown",
   "metadata": {
    "deletable": false
   },
   "source": [
    "### Aufgabe 4: Summationstabelle (4 Punkte)\n",
    "\n",
    "Schreiben Sie eine Methode ```print```, welche als Argument eine Zahl ```n``` entgegennimmt. Es sollen dann für die ersten `n` Zahlen die ersten `n` Elemente der Summationstabelle ausgegeben werden. Formatieren Sie die Ausgabe der Zahlen, so dass diese die Länge 4 haben. Dabei gilt:\n",
    "- Ganze Zahlen werde mit hilfe des Buchstabens `d` formatiert.\n",
    "- Die Länge wird als Zahl innerhalb der Formatierungsanweisung geschrieben.\n",
    "\n",
    "Beispiel mit `n = 4`\n",
    "```java\n",
    "0   1   2   3 \n",
    "1   2   3   4 \n",
    "2   3   4   5 \n",
    "3   4   5   6 \n",
    "```"
   ]
  },
  {
   "cell_type": "code",
   "execution_count": null,
   "metadata": {
    "deletable": false,
    "exercise_id": 4,
    "vscode": {
     "languageId": "java"
    }
   },
   "outputs": [],
   "source": [
    "public class SummationTable {\n",
    "    \n",
    "    // Ihre Lösung\n",
    "    \n",
    "    public static void main(String[] args) {\n",
    "        // Ihre Lösung\n",
    "    }\n",
    "\n",
    "}"
   ]
  },
  {
   "cell_type": "code",
   "execution_count": null,
   "metadata": {
    "deletable": false,
    "vscode": {
     "languageId": "java"
    }
   },
   "outputs": [],
   "source": [
    "SummationTable.main(new String[0]);"
   ]
  },
  {
   "cell_type": "markdown",
   "metadata": {
    "deletable": false,
    "tags": []
   },
   "source": [
    "### Aufgabe 5: Benötigte Summanden (4 Punkte)\n",
    "\n",
    "Schreiben Sie eine Methode ```count```, welche als Argumente eine positive reelle Zahl ```start``` und eine reelle Zahl ```total``` entgegennimmt. Es soll dann gezählt werden, wie oft die Zahl `start` summiert werden muss, so dass die Summe grösser oder gleich `total` ist. Die Anzahl Summanden soll dann zurück gegeben werden."
   ]
  },
  {
   "cell_type": "code",
   "execution_count": null,
   "metadata": {
    "deletable": false,
    "exercise_id": 5,
    "vscode": {
     "languageId": "java"
    }
   },
   "outputs": [],
   "source": [
    "public class FindNeededNumbers {\n",
    "    \n",
    "    // Ihre Lösung\n",
    "    \n",
    "    public static void main(String[] args) {\n",
    "        // Ihre Lösung\n",
    "    }\n",
    "\n",
    "}"
   ]
  },
  {
   "cell_type": "code",
   "execution_count": null,
   "metadata": {
    "deletable": false,
    "vscode": {
     "languageId": "java"
    }
   },
   "outputs": [],
   "source": [
    "FindNeededNumbers.main(new String[0]);"
   ]
  },
  {
   "cell_type": "code",
   "execution_count": null,
   "metadata": {
    "vscode": {
     "languageId": "java"
    }
   },
   "outputs": [],
   "source": []
  }
 ],
 "metadata": {
  "celltoolbar": "Edit Metadata",
  "exercise_series": "gdp",
  "kernelspec": {
   "display_name": "Java [conda env:ijava]",
   "language": "java",
   "name": "conda-env-ijava-java"
  },
  "language_info": {
   "codemirror_mode": "java",
   "file_extension": ".jshell",
   "mimetype": "text/x-java-source",
   "name": "Java",
   "pygments_lexer": "java",
   "version": "17.0.3-internal+0-adhoc..src"
  },
  "notebook_id": 104,
  "toc": {
   "base_numbering": 1,
   "nav_menu": {},
   "number_sections": false,
   "sideBar": false,
   "skip_h1_title": false,
   "title_cell": "Table of Contents",
   "title_sidebar": "Contents",
   "toc_cell": false,
   "toc_position": {},
   "toc_section_display": false,
   "toc_window_display": false
  }
 },
 "nbformat": 4,
 "nbformat_minor": 4
}
